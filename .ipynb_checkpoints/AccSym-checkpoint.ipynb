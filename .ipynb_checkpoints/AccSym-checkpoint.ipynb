{
 "cells": [
  {
   "cell_type": "code",
   "execution_count": 1,
   "metadata": {
    "scrolled": true
   },
   "outputs": [
    {
     "data": {
      "application/vnd.jupyter.widget-view+json": {
       "model_id": "f2584f1107cf474bbcc26ff7a5e2eeb3",
       "version_major": 2,
       "version_minor": 0
      },
      "text/plain": [
       "interactive(children=(IntSlider(value=40, description='x', max=120, min=-40), Output()), _dom_classes=('widget…"
      ]
     },
     "metadata": {},
     "output_type": "display_data"
    },
    {
     "data": {
      "application/vnd.jupyter.widget-view+json": {
       "model_id": "265ba2f69eab4d658aa8041cfb326781",
       "version_major": 2,
       "version_minor": 0
      },
      "text/plain": [
       "interactive(children=(IntSlider(value=4, continuous_update=False, description='Frequency:', max=10), Output())…"
      ]
     },
     "metadata": {},
     "output_type": "display_data"
    },
    {
     "data": {
      "application/vnd.jupyter.widget-view+json": {
       "model_id": "5684e1b8f6774ae29e3dc5c9b1c7e9a8",
       "version_major": 2,
       "version_minor": 0
      },
      "text/plain": [
       "VBox(children=(IntSlider(value=4, continuous_update=False, description='Frequency:', max=10), BoundedIntText(v…"
      ]
     },
     "metadata": {},
     "output_type": "display_data"
    }
   ],
   "source": [
    "# nbi:hide_in\n",
    "\n",
    "%matplotlib notebook\n",
    "\n",
    "import ipywidgets as widgets\n",
    "from ipywidgets import interact\n",
    "import numpy as np\n",
    "import matplotlib.pyplot as plt\n",
    "# import bqplot.pyplot as plt\n",
    "from math import cos,pi\n",
    "\n",
    "f = 2.0 # czest.\n",
    "A = 3.0 # amp\n",
    "\n",
    "\n",
    "    \n",
    "\n",
    "def vibr(t):\n",
    "    return A*cos(2*pi*f*t)\n",
    "\n",
    "def square(x):\n",
    "    return x * x\n",
    "\n",
    "interact(square, x=40);\n",
    "\n",
    "def zm_wart(w):\n",
    "    sli.value = wart.value\n",
    "    return w\n",
    "\n",
    "wart = widgets.BoundedIntText(\n",
    "    value=1,\n",
    "    min=1,\n",
    "    max=10,\n",
    "    step=1,\n",
    "    description='Frequency:',\n",
    "    disabled=False\n",
    ")\n",
    "sli = widgets.IntSlider(\n",
    "    value=4,\n",
    "    min=0,\n",
    "    max=10,\n",
    "    step=1,\n",
    "    description='Frequency:',\n",
    "    disabled=False,\n",
    "    continuous_update=False,\n",
    "#     orientation='vertical',\n",
    "    readout=True,\n",
    "    readout_format='d'\n",
    ")\n",
    "\n",
    "button = widgets.Button(description=\"Plot\")\n",
    "\n",
    "output = widgets.Output()\n",
    "\n",
    "# def vibPlot(f):\n",
    "#     f = sli.value\n",
    "#     t = np.arange(0,0.8*np.pi,0.01)   # start,stop,step\n",
    "#     y = A * np.cos(2*pi*f*t)\n",
    "#     fig = plt.figure(title='Drgania')\n",
    "#     fig = plt.plot(t,y,color=(255,0,0))\n",
    "#     return fig\n",
    "\n",
    "%matplotlib inline\n",
    "\n",
    "def plotVib(f):\n",
    "    t = np.arange(0,0.8*np.pi,0.01)   # start,stop,step\n",
    "    y = A * np.cos(2*pi*f*t)\n",
    "    plt.plot(t,y)\n",
    "    \n",
    "    \n",
    "\n",
    "def on_button_clicked(b):\n",
    "    sli.value = wart.value\n",
    "#     widgets.VBox([sli,wart])\n",
    "    f = wart.value\n",
    "    fig = vibPlot(f)\n",
    "    plt.close(fig)\n",
    "    plt.show()\n",
    "    widgets.VBox([sli,wart,fig])\n",
    "\n",
    "#     widgets.display(sli,wart)\n",
    "\n",
    "button.on_click(on_button_clicked)\n",
    "\n",
    "size = 100\n",
    "\n",
    "# fig = plt.figure(title='Scatter plot with colors')\n",
    "# plt.scatter(np.random.randn(size), np.random.randn(size), color=np.random.randn(size))\n",
    "# plt.show()\n",
    "\n",
    "# print(str(vibr(0.05)))\n",
    "\n",
    "# fig = vibPlot(f)\n",
    "\n",
    "\n",
    "\n",
    "# t = np.arange(0,0.8*np.pi,0.01)   # start,stop,step\n",
    "# y = A * np.cos(2*pi*f*t)\n",
    "# plt.plot(t,y)\n",
    "# plt.show()\n",
    "\n",
    "interact(plotVib,f=sli)\n",
    "\n",
    "\n",
    "\n",
    "# print(y)\n",
    "# print(t)\n",
    "\n",
    "widgets.VBox([sli,wart,button])\n",
    "\n",
    "# widgets.interact(vibPlot,sli=(0,10))\n",
    "\n",
    "# size = 100\n",
    "\n",
    "# plt.figure(title='Scatter plot with colors')\n",
    "# plt.scatter(np.random.randn(size), np.random.randn(size), color=np.random.randn(size))\n",
    "# plt.show()\n",
    "\n",
    "# interact(zm_wart,w=sli.value)\n",
    "\n"
   ]
  }
 ],
 "metadata": {
  "kernelspec": {
   "display_name": "Python 3",
   "language": "python",
   "name": "python3"
  },
  "language_info": {
   "codemirror_mode": {
    "name": "ipython",
    "version": 3
   },
   "file_extension": ".py",
   "mimetype": "text/x-python",
   "name": "python",
   "nbconvert_exporter": "python",
   "pygments_lexer": "ipython3",
   "version": "3.8.2"
  }
 },
 "nbformat": 4,
 "nbformat_minor": 2
}
