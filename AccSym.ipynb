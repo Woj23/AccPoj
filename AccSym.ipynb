{
 "cells": [
  {
   "cell_type": "code",
   "execution_count": 61,
   "metadata": {
    "scrolled": true
   },
   "outputs": [
    {
     "ename": "TypeError",
     "evalue": "'module' object is not callable",
     "output_type": "error",
     "traceback": [
      "\u001b[1;31m---------------------------------------------------------------------------\u001b[0m",
      "\u001b[1;31mTypeError\u001b[0m                                 Traceback (most recent call last)",
      "\u001b[1;32m<ipython-input-61-0828957549ce>\u001b[0m in \u001b[0;36m<module>\u001b[1;34m\u001b[0m\n\u001b[0;32m     27\u001b[0m )\n\u001b[0;32m     28\u001b[0m \u001b[1;33m\u001b[0m\u001b[0m\n\u001b[1;32m---> 29\u001b[1;33m \u001b[0mIPython\u001b[0m\u001b[1;33m.\u001b[0m\u001b[0mdisplay\u001b[0m\u001b[1;33m(\u001b[0m\u001b[1;34m\"a\"\u001b[0m\u001b[1;33m)\u001b[0m\u001b[1;33m\u001b[0m\u001b[1;33m\u001b[0m\u001b[0m\n\u001b[0m",
      "\u001b[1;31mTypeError\u001b[0m: 'module' object is not callable"
     ]
    }
   ],
   "source": [
    "# nbi:hide_in\n",
    "# nbi:hide_out\n",
    "\n",
    "import ipywidgets as widgets\n",
    "from ipywidgets import interact, interactive, fixed, Layout, Label\n",
    "import numpy as np\n",
    "import nbinteract as nbi\n",
    "from math import cos,pi\n",
    "import IPython\n",
    "\n",
    "# import matplotlib.pyplot\n",
    "\n",
    "# def vibr(t,f):\n",
    "#     return A*cos(2*pi*f*t)\n",
    "\n",
    "f = widgets.IntSlider(\n",
    "    value=0.0,\n",
    "    min=0.0,\n",
    "    max=100.0,\n",
    "    step=0.1,\n",
    "    description='Frequency:',\n",
    "    disabled=False,\n",
    "    continuous_update=True,\n",
    "#     orientation='vertical',\n",
    "    readout=True,\n",
    "    readout_format='d'\n",
    ")\n",
    "\n",
    "IPython.display(\"a\")"
   ]
  },
  {
   "cell_type": "code",
   "execution_count": 68,
   "metadata": {
    "scrolled": true
   },
   "outputs": [
    {
     "data": {
      "application/vnd.jupyter.widget-view+json": {
       "model_id": "39b34b7868ab4b7ba575a0c76104c0b9",
       "version_major": 2,
       "version_minor": 0
      },
      "text/plain": [
       "HTML(value='<h2> Symulator Akcelerometru Pojemnościowego </h2>     <br><p> f - czestotliwosc drgań obiektu</p>…"
      ]
     },
     "metadata": {},
     "output_type": "display_data"
    },
    {
     "data": {
      "application/vnd.jupyter.widget-view+json": {
       "model_id": "c7fa594c794c418d95e4832a8b11d8ba",
       "version_major": 2,
       "version_minor": 0
      },
      "text/plain": [
       "HBox(children=(VBox(children=(interactive(children=(FloatSlider(value=5.0, description='f [Hz]:', max=10.0), F…"
      ]
     },
     "metadata": {},
     "output_type": "display_data"
    }
   ],
   "source": [
    "# nbi:hide_in\n",
    "\n",
    "import ipywidgets as widgets\n",
    "from ipywidgets import interact, interactive, fixed, Layout\n",
    "import IPython\n",
    "import numpy as np\n",
    "import nbinteract as nbi\n",
    "from math import cos,pi\n",
    "\n",
    "# import matplotlib.pyplot\n",
    "\n",
    "# def vibr(t,f):\n",
    "#     return A*cos(2*pi*f*t)\n",
    "\n",
    "\n",
    "label = Layout(width='120px',height='30px')\n",
    "f_wid = widgets.FloatSlider(\n",
    "    value=5.0,\n",
    "    min=0.0,\n",
    "    max=10.0,\n",
    "    step=0.1,\n",
    "    description='f [Hz]:',\n",
    "    disabled=False,\n",
    "    continuous_update=True,\n",
    "#     orientation='vertical',\n",
    "    readout=True,\n",
    "#     readout_format='f'\n",
    ")\n",
    "\n",
    "S_wid = widgets.FloatSlider(\n",
    "    value=0.5,\n",
    "    min=0.1,\n",
    "    max=1.0,\n",
    "    step=0.05,\n",
    "    description='S [mm2]:',\n",
    "    disabled=False,\n",
    "    continuous_update=True,\n",
    "#     orientation='vertical',\n",
    "    readout=True,\n",
    "#     readout_format='f'\n",
    ")\n",
    "\n",
    "d_wid = widgets.FloatSlider(\n",
    "    value=0.3,\n",
    "    min=0.1,\n",
    "    max=0.6,\n",
    "    step=0.01,\n",
    "    description='d [mm]:',\n",
    "    disabled=False,\n",
    "    continuous_update=True,\n",
    "#     orientation='vertical',\n",
    "    readout=True,\n",
    "#     readout_format='f'\n",
    ")\n",
    "\n",
    "def f_val():\n",
    "    return f.value\n",
    "\n",
    "def time(): return np.arange(0,0.8*np.pi,0.001)\n",
    "\n",
    "def pojemnosc(x,f,eoer,S,d):\n",
    "    dx = 0.03*np.cos(2*pi*f*x)\n",
    "    ret = eoer*S/(d+dx)\n",
    "#     print(ret)\n",
    "    return ret\n",
    "\n",
    "# Vs - podane napięcie roznicowe = 5V\n",
    "def napiecie(x, f,eoer,S,d,Vs):\n",
    "    dx = 0.03*np.cos(2*pi*f*x)\n",
    "    C1 = eoer*S/(d+dx)\n",
    "    C2 = eoer*S/(d-dx)\n",
    "    Vout = (C1-C2)*Vs/(C1+C2)\n",
    "    return Vout\n",
    "\n",
    "def y_values(x, f):\n",
    "    return 3*np.cos(2*pi*f*x)\n",
    "\n",
    "def odwrCos(x):\n",
    "    return 1/(np.cos(2*pi*x)+1.5)\n",
    "\n",
    "opts = {\n",
    "    'title': 'Capacitance fluctuation',\n",
    "    'xlabel': 'time',\n",
    "    'ylabel': 'Capacitance [mF]',\n",
    "    'ylim': (0, 5),\n",
    "#     'xlim': (0, 700),\n",
    "    'animation_duration': 100 # spr puzniej\n",
    "}\n",
    "\n",
    "# wykres pojemności w czasie, zal. od drgań\n",
    "vboxcom = nbi.line(time, pojemnosc, f= f_wid, eoer=fixed(1.00054), S=S_wid,d=d_wid, options=opts ) \n",
    "\n",
    "opts = {\n",
    "    'title': 'Accelerometer Voltage Output',\n",
    "    'xlabel': 'time',\n",
    "    'ylabel': 'Output Voltage [V]',\n",
    "    'ylim': (-5, 5),\n",
    "#     'xlim': (0, 700),\n",
    "    'animation_duration': 100 # spr puzniej\n",
    "}\n",
    "\n",
    "# nbi.line(time, y_values, f=(0.5,10))\n",
    "voltage = nbi.line(time, napiecie, f= f_wid, eoer=fixed(1.00054), S=S_wid,d=d_wid, Vs=fixed(5), options=opts)\n",
    "\n",
    "htmlText = widgets.HTML(\n",
    "    value=\"<h2> Symulator Akcelerometru Pojemnościowego </h2> \\\n",
    "    <br><p> f - czestotliwosc drgań obiektu</p> \\\n",
    "    <p> S - suma powierzchni okładek kondensatora grzebieniowego</p> \\\n",
    "    <p> d - dystans między okładkami kondensatora w stanie ustalonym (brak drgań)</p>\",\n",
    ")\n",
    "\n",
    "display(htmlText)\n",
    "\n",
    "widgets.HBox([vboxcom,voltage])"
   ]
  },
  {
   "cell_type": "code",
   "execution_count": null,
   "metadata": {},
   "outputs": [],
   "source": []
  }
 ],
 "metadata": {
  "kernelspec": {
   "display_name": "Python 3",
   "language": "python",
   "name": "python3"
  },
  "language_info": {
   "codemirror_mode": {
    "name": "ipython",
    "version": 3
   },
   "file_extension": ".py",
   "mimetype": "text/x-python",
   "name": "python",
   "nbconvert_exporter": "python",
   "pygments_lexer": "ipython3",
   "version": "3.8.2"
  }
 },
 "nbformat": 4,
 "nbformat_minor": 2
}
