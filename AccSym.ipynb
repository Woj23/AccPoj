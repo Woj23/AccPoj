{
 "cells": [
  {
   "cell_type": "code",
   "execution_count": 1,
   "metadata": {
    "scrolled": true
   },
   "outputs": [
    {
     "data": {
      "application/vnd.jupyter.widget-view+json": {
       "model_id": "8657592c1ce14ae6aa357bb4bfd62054",
       "version_major": 2,
       "version_minor": 0
      },
      "text/plain": [
       "interactive(children=(IntSlider(value=40, description='x', max=120, min=-40), Output()), _dom_classes=('widget…"
      ]
     },
     "metadata": {},
     "output_type": "display_data"
    },
    {
     "name": "stdout",
     "output_type": "stream",
     "text": [
      "2.4270509831248424\n"
     ]
    },
    {
     "data": {
      "application/vnd.jupyter.widget-view+json": {
       "model_id": "018b9d4797634f6e80a6988fb582baf8",
       "version_major": 2,
       "version_minor": 0
      },
      "text/plain": [
       "VBox(children=(Figure(axes=[ColorAxis(scale=ColorScale()), Axis(scale=LinearScale()), Axis(orientation='vertic…"
      ]
     },
     "metadata": {},
     "output_type": "display_data"
    }
   ],
   "source": [
    "# nbi:hide_in\n",
    "import ipywidgets as widgets\n",
    "from ipywidgets import interact\n",
    "import numpy as np\n",
    "import bqplot.pyplot as plt\n",
    "from math import cos,pi\n",
    "\n",
    "f = 2.0 # czest.\n",
    "A = 3.0 # amp\n",
    "\n",
    "def vibr(t):\n",
    "    return A*cos(2*pi*f*t)\n",
    "\n",
    "def square(x):\n",
    "    return x * x\n",
    "\n",
    "interact(square, x=40);\n",
    "\n",
    "def zm_wart(w):\n",
    "    sli.value = wart.value\n",
    "    widgets.VBox([sli,wart])\n",
    "    return w\n",
    "\n",
    "wart = widgets.BoundedIntText(\n",
    "    value=1,\n",
    "    min=1,\n",
    "    max=10,\n",
    "    step=1,\n",
    "    description='Text:',\n",
    "    disabled=False\n",
    ")\n",
    "sli = widgets.IntSlider(\n",
    "    value=7,\n",
    "    min=0,\n",
    "    max=10,\n",
    "    step=1,\n",
    "    description='Test:',\n",
    "    disabled=False,\n",
    "    continuous_update=False,\n",
    "    orientation='vertical',\n",
    "    readout=True,\n",
    "    readout_format='d'\n",
    ")\n",
    "\n",
    "button = widgets.Button(description=\"submit\")\n",
    "\n",
    "output = widgets.Output()\n",
    "\n",
    "def on_button_clicked(b):\n",
    "    sli.value = wart.value\n",
    "    widgets.VBox([sli,wart])\n",
    "#     widgets.display(sli,wart)\n",
    "\n",
    "button.on_click(on_button_clicked)\n",
    "\n",
    "size = 100\n",
    "\n",
    "# fig = plt.figure(title='Scatter plot with colors')\n",
    "# plt.scatter(np.random.randn(size), np.random.randn(size), color=np.random.randn(size))\n",
    "# plt.show()\n",
    "\n",
    "print(str(vibr(0.05)))\n",
    "\n",
    "t = np.arange(0,0.8*np.pi,0.01)   # start,stop,step\n",
    "y = A * np.cos(2*pi*f*t)\n",
    "\n",
    "\n",
    "\n",
    "plt.plot(t,y,color=(255,0,0))\n",
    "plt.show()\n",
    "\n",
    "# print(y)\n",
    "# print(t)\n",
    "\n",
    "# widgets.VBox([sli,wart,button,fig])\n",
    "\n",
    "# size = 100\n",
    "\n",
    "# plt.figure(title='Scatter plot with colors')\n",
    "# plt.scatter(np.random.randn(size), np.random.randn(size), color=np.random.randn(size))\n",
    "# plt.show()\n",
    "\n",
    "# interact(zm_wart,w=sli.value)\n",
    "\n"
   ]
  }
 ],
 "metadata": {
  "kernelspec": {
   "display_name": "Python 3",
   "language": "python",
   "name": "python3"
  },
  "language_info": {
   "codemirror_mode": {
    "name": "ipython",
    "version": 3
   },
   "file_extension": ".py",
   "mimetype": "text/x-python",
   "name": "python",
   "nbconvert_exporter": "python",
   "pygments_lexer": "ipython3",
   "version": "3.8.2"
  }
 },
 "nbformat": 4,
 "nbformat_minor": 2
}
